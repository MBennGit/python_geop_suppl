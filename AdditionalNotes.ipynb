{
 "cells": [
  {
   "cell_type": "markdown",
   "metadata": {},
   "source": [
    "# Additional Notes"
   ]
  },
  {
   "cell_type": "markdown",
   "metadata": {},
   "source": [
    "## Lesson 1"
   ]
  },
  {
   "cell_type": "markdown",
   "metadata": {},
   "source": [
    "When programming/testing outside of ArcGIS Pro, import the official geoprocessing site package."
   ]
  },
  {
   "cell_type": "code",
   "execution_count": 1,
   "metadata": {},
   "outputs": [],
   "source": [
    "import arcpy"
   ]
  },
  {
   "cell_type": "markdown",
   "metadata": {},
   "source": [
    "## Lesson 2"
   ]
  },
  {
   "cell_type": "markdown",
   "metadata": {},
   "source": [
    "### Exercise 2A"
   ]
  },
  {
   "cell_type": "markdown",
   "metadata": {},
   "source": [
    "Types of Variables"
   ]
  },
  {
   "cell_type": "code",
   "execution_count": 12,
   "metadata": {},
   "outputs": [],
   "source": [
    "inputFeatures = \"AffectedAreaApp\"\n",
    "outputFeatures = r\"C:\\EsriTraining\\PYTS\\Projects\\PowerOutage\\PowerOutage.gdb\\AffectedAreaAppCopy\"\n",
    "optionalParam1 = None\n",
    "optionalParam2 = \"\""
   ]
  },
  {
   "cell_type": "code",
   "execution_count": 18,
   "metadata": {},
   "outputs": [
    {
     "name": "stdout",
     "output_type": "stream",
     "text": [
      "inputFeatures is type <class 'str'>\n",
      "outputFeatures is type <class 'str'>\n",
      "optionalParam1 is type <class 'NoneType'>\n",
      "optionalParam2 is type <class 'str'>\n"
     ]
    }
   ],
   "source": [
    "report = \"{} is type {}\"\n",
    "print(report.format(\"inputFeatures\",type(inputFeatures)))\n",
    "print(report.format(\"outputFeatures\",type(outputFeatures)))\n",
    "print(report.format(\"optionalParam1\",type(optionalParam1)))\n",
    "print(report.format(\"optionalParam2\",type(optionalParam2)))"
   ]
  },
  {
   "cell_type": "markdown",
   "metadata": {},
   "source": [
    "## Lesson 3"
   ]
  },
  {
   "cell_type": "markdown",
   "metadata": {},
   "source": [
    "### Demo 3A"
   ]
  },
  {
   "cell_type": "markdown",
   "metadata": {},
   "source": [
    "String formatting"
   ]
  },
  {
   "cell_type": "code",
   "execution_count": 1,
   "metadata": {},
   "outputs": [
    {
     "name": "stdout",
     "output_type": "stream",
     "text": [
      "Test-File: inputShapeFile.shp\n"
     ]
    }
   ],
   "source": [
    "# Use .format and placeholder {} to control scripts\n",
    "print(\"Test-File: {}\".format('inputShapeFile.shp'))"
   ]
  },
  {
   "cell_type": "code",
   "execution_count": 3,
   "metadata": {},
   "outputs": [
    {
     "name": "stdout",
     "output_type": "stream",
     "text": [
      "Test-Files: inputShapeFile.shp and outputShapeFile.shp\n"
     ]
    }
   ],
   "source": [
    "# You can define several placeholder\n",
    "print(\"Test-Files: {} and {}\".format('inputShapeFile.shp', 'outputShapeFile.shp'))"
   ]
  },
  {
   "cell_type": "code",
   "execution_count": 11,
   "metadata": {},
   "outputs": [
    {
     "name": "stdout",
     "output_type": "stream",
     "text": [
      "Test-Files: outputShapeFile.shp and inputShapeFile.shp\n"
     ]
    }
   ],
   "source": [
    "# Define the order of placeholder\n",
    "print(\"Test-Files: {1} and {0}\".format('inputShapeFile.shp', 'outputShapeFile.shp'))"
   ]
  },
  {
   "cell_type": "code",
   "execution_count": 5,
   "metadata": {},
   "outputs": [
    {
     "name": "stdout",
     "output_type": "stream",
     "text": [
      "Test-Files: inputShapeFile.shp and outputShapeFile.shp\n"
     ]
    }
   ],
   "source": [
    "# Define variables for placeholder\n",
    "print(\"Test-Files: {inP} and {outP}\".format(inP='inputShapeFile.shp', outP='outputShapeFile.shp'))"
   ]
  },
  {
   "cell_type": "markdown",
   "metadata": {},
   "source": [
    "### Exercise 3"
   ]
  },
  {
   "cell_type": "markdown",
   "metadata": {},
   "source": [
    "Check, whether the describe object has a certain attribute."
   ]
  },
  {
   "cell_type": "code",
   "execution_count": 7,
   "metadata": {},
   "outputs": [
    {
     "name": "stdout",
     "output_type": "stream",
     "text": [
      "Name:        MajorAttractions\n"
     ]
    }
   ],
   "source": [
    "fc = r\"C:\\EsriTraining\\PYTSI\\SanDiego.gdb\\MajorAttractions\"\n",
    "desc = arcpy.Describe(fc)\n",
    "\n",
    "if hasattr(desc, \"name\"):\n",
    "    print(\"Name:        \" + desc.name)"
   ]
  },
  {
   "cell_type": "markdown",
   "metadata": {},
   "source": [
    "Using da.Describe"
   ]
  },
  {
   "cell_type": "code",
   "execution_count": 19,
   "metadata": {},
   "outputs": [
    {
     "name": "stdout",
     "output_type": "stream",
     "text": [
      "file: MajorAttractions\n"
     ]
    }
   ],
   "source": [
    "fc = r\"C:\\EsriTraining\\PYTSI\\SanDiego.gdb\\MajorAttractions\"\n",
    "desc = arcpy.da.Describe(fc)\n",
    "\n",
    "if 'file' in desc:\n",
    "    print(\"file: \" + desc['file'])"
   ]
  },
  {
   "cell_type": "markdown",
   "metadata": {},
   "source": [
    "## Lesson 4"
   ]
  },
  {
   "cell_type": "markdown",
   "metadata": {},
   "source": [
    "Introduction to lists"
   ]
  },
  {
   "cell_type": "code",
   "execution_count": 33,
   "metadata": {},
   "outputs": [
    {
     "data": {
      "text/plain": [
       "[]"
      ]
     },
     "execution_count": 33,
     "metadata": {},
     "output_type": "execute_result"
    }
   ],
   "source": [
    "# Create an empty list\n",
    "demolist = []\n",
    "demolist"
   ]
  },
  {
   "cell_type": "code",
   "execution_count": 37,
   "metadata": {},
   "outputs": [
    {
     "data": {
      "text/plain": [
       "['string1', 'string2', 2]"
      ]
     },
     "execution_count": 37,
     "metadata": {},
     "output_type": "execute_result"
    }
   ],
   "source": [
    "# Create a prefilled list\n",
    "demolist = ['string1', 'string2', 2]\n",
    "demolist"
   ]
  },
  {
   "cell_type": "code",
   "execution_count": 35,
   "metadata": {},
   "outputs": [
    {
     "name": "stdout",
     "output_type": "stream",
     "text": [
      "string1\n",
      "2\n"
     ]
    }
   ],
   "source": [
    "# Print the first and last element\n",
    "print(demolist[0])\n",
    "print(demolist[-1])"
   ]
  },
  {
   "cell_type": "code",
   "execution_count": 38,
   "metadata": {},
   "outputs": [
    {
     "data": {
      "text/plain": [
       "['string1', 'string2', 2, '3']"
      ]
     },
     "execution_count": 38,
     "metadata": {},
     "output_type": "execute_result"
    }
   ],
   "source": [
    "# Append an element\n",
    "demolist.append('3')\n",
    "demolist"
   ]
  },
  {
   "cell_type": "code",
   "execution_count": 39,
   "metadata": {},
   "outputs": [
    {
     "name": "stdout",
     "output_type": "stream",
     "text": [
      "string1\n",
      "string2\n",
      "2\n",
      "3\n"
     ]
    }
   ],
   "source": [
    "# Print every element in the list\n",
    "for elem in demolist:\n",
    "    print(elem)"
   ]
  },
  {
   "cell_type": "markdown",
   "metadata": {},
   "source": [
    "**Using ArcPy List* Functions**"
   ]
  },
  {
   "cell_type": "code",
   "execution_count": 29,
   "metadata": {},
   "outputs": [],
   "source": [
    "fc = r\"C:\\EsriTraining\\PYTSI\\SanDiego.gdb\\MajorAttractions\"\n",
    "fieldsList = arcpy.ListFields(fc)"
   ]
  },
  {
   "cell_type": "code",
   "execution_count": 40,
   "metadata": {},
   "outputs": [
    {
     "name": "stdout",
     "output_type": "stream",
     "text": [
      "OBJECTID\n",
      "Shape\n",
      "STATUS\n",
      "NAME\n",
      "NAIC\n",
      "ESTAB\n",
      "ADDR\n",
      "EMP\n"
     ]
    }
   ],
   "source": [
    "# Pseudocode:\n",
    "# For every element in the List:\n",
    "# print the property name\n",
    "for elem in fieldsList:\n",
    "    print(elem.name)"
   ]
  },
  {
   "cell_type": "markdown",
   "metadata": {},
   "source": [
    "Nested FOR- Loops"
   ]
  },
  {
   "cell_type": "code",
   "execution_count": 3,
   "metadata": {},
   "outputs": [
    {
     "name": "stdout",
     "output_type": "stream",
     "text": [
      "###################\n",
      "AffectedAreaApp.shp\n",
      "###################\n",
      "FID\n",
      "Shape\n",
      "OBJECTID\n",
      "FRONTAGE\n",
      "ACRE\n",
      "TOT_L_VAL\n",
      "SALE_YR\n",
      "SALE_PRICE\n",
      "SHAPE_Leng\n",
      "ORIG_FID\n",
      "Number\n",
      "Street\n",
      "City\n",
      "State\n",
      "Zip\n",
      "Owner\n",
      "PhoneNumbe\n",
      "Reported\n",
      "###################\n",
      "AppReports.shp\n",
      "###################\n",
      "FID\n",
      "Shape\n",
      "Parcel_ID\n",
      "Street_Num\n",
      "Street_Nam\n",
      "City\n",
      "State\n",
      "Zip\n",
      "Owner_Name\n",
      "Phone_Numb\n",
      "SquFoot\n",
      "TaxValue\n",
      "PriceSquFt\n",
      "Source\n",
      "###################\n",
      "TreePts.shp\n",
      "###################\n",
      "FID\n",
      "Shape\n",
      "Type\n",
      "CanRadius\n"
     ]
    }
   ],
   "source": [
    "filgdb = r\"C:\\EsriTraining\\PYTS\\Data\"\n",
    "arcpy.env.workspace = filgdb\n",
    "fcList = arcpy.ListFeatureClasses()\n",
    "for fc in fcList:\n",
    "    print('###################')\n",
    "    print(fc)\n",
    "    print('###################')\n",
    "    fieldList = arcpy.ListFields(fc)\n",
    "    for field in fieldList:\n",
    "        print(field.name)"
   ]
  }
 ],
 "metadata": {
  "kernelspec": {
   "display_name": "Python 3",
   "language": "python",
   "name": "python3"
  },
  "language_info": {
   "codemirror_mode": {
    "name": "ipython",
    "version": 3
   },
   "file_extension": ".py",
   "mimetype": "text/x-python",
   "name": "python",
   "nbconvert_exporter": "python",
   "pygments_lexer": "ipython3",
   "version": "3.6.10"
  }
 },
 "nbformat": 4,
 "nbformat_minor": 4
}
