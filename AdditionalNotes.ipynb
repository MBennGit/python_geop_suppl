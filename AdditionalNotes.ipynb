{
 "cells": [
  {
   "cell_type": "markdown",
   "metadata": {},
   "source": [
    "# Additional Notes"
   ]
  },
  {
   "cell_type": "markdown",
   "metadata": {},
   "source": [
    "## Lesson 1"
   ]
  },
  {
   "cell_type": "markdown",
   "metadata": {},
   "source": [
    "When programming/testing outside of ArcGIS Pro, import the official geoprocessing site package."
   ]
  },
  {
   "cell_type": "code",
   "execution_count": 20,
   "metadata": {},
   "outputs": [],
   "source": [
    "import arcpy"
   ]
  },
  {
   "cell_type": "markdown",
   "metadata": {},
   "source": [
    "## Lesson 2"
   ]
  },
  {
   "cell_type": "markdown",
   "metadata": {},
   "source": [
    "### Exercise 2A"
   ]
  },
  {
   "cell_type": "markdown",
   "metadata": {},
   "source": [
    "Types of Variables"
   ]
  },
  {
   "cell_type": "code",
   "execution_count": 12,
   "metadata": {},
   "outputs": [],
   "source": [
    "inputFeatures = \"AffectedAreaApp\"\n",
    "outputFeatures = r\"C:\\EsriTraining\\PYTS\\Projects\\PowerOutage\\PowerOutage.gdb\\AffectedAreaAppCopy\"\n",
    "optionalParam1 = None\n",
    "optionalParam2 = \"\""
   ]
  },
  {
   "cell_type": "code",
   "execution_count": 18,
   "metadata": {},
   "outputs": [
    {
     "name": "stdout",
     "output_type": "stream",
     "text": [
      "inputFeatures is type <class 'str'>\n",
      "outputFeatures is type <class 'str'>\n",
      "optionalParam1 is type <class 'NoneType'>\n",
      "optionalParam2 is type <class 'str'>\n"
     ]
    }
   ],
   "source": [
    "report = \"{} is type {}\"\n",
    "print(report.format(\"inputFeatures\",type(inputFeatures)))\n",
    "print(report.format(\"outputFeatures\",type(outputFeatures)))\n",
    "print(report.format(\"optionalParam1\",type(optionalParam1)))\n",
    "print(report.format(\"optionalParam2\",type(optionalParam2)))"
   ]
  },
  {
   "cell_type": "markdown",
   "metadata": {},
   "source": [
    "## Lesson 3"
   ]
  },
  {
   "cell_type": "markdown",
   "metadata": {},
   "source": [
    "### Demo 3A"
   ]
  },
  {
   "cell_type": "markdown",
   "metadata": {},
   "source": [
    "String formatting"
   ]
  },
  {
   "cell_type": "code",
   "execution_count": 1,
   "metadata": {},
   "outputs": [
    {
     "name": "stdout",
     "output_type": "stream",
     "text": [
      "Test-File: inputShapeFile.shp\n"
     ]
    }
   ],
   "source": [
    "# Use .format and placeholder {} to control scripts\n",
    "print(\"Test-File: {}\".format('inputShapeFile.shp'))"
   ]
  },
  {
   "cell_type": "code",
   "execution_count": 3,
   "metadata": {},
   "outputs": [
    {
     "name": "stdout",
     "output_type": "stream",
     "text": [
      "Test-Files: inputShapeFile.shp and outputShapeFile.shp\n"
     ]
    }
   ],
   "source": [
    "# You can define several placeholder\n",
    "print(\"Test-Files: {} and {}\".format('inputShapeFile.shp', 'outputShapeFile.shp'))"
   ]
  },
  {
   "cell_type": "code",
   "execution_count": 11,
   "metadata": {},
   "outputs": [
    {
     "name": "stdout",
     "output_type": "stream",
     "text": [
      "Test-Files: outputShapeFile.shp and inputShapeFile.shp\n"
     ]
    }
   ],
   "source": [
    "# Define the order of placeholder\n",
    "print(\"Test-Files: {1} and {0}\".format('inputShapeFile.shp', 'outputShapeFile.shp'))"
   ]
  },
  {
   "cell_type": "code",
   "execution_count": 2,
   "metadata": {},
   "outputs": [],
   "source": [
    "inPut = 'inputShapeFile.shp'"
   ]
  },
  {
   "cell_type": "code",
   "execution_count": 3,
   "metadata": {},
   "outputs": [
    {
     "name": "stdout",
     "output_type": "stream",
     "text": [
      "Test-Files: inputShapeFile.shp and outputShapeFile.shp\n"
     ]
    }
   ],
   "source": [
    "# Define variables for placeholder\n",
    "print(\"Test-Files: {inP} and {outP}\".format(inP=inPut, outP='outputShapeFile.shp'))"
   ]
  },
  {
   "cell_type": "code",
   "execution_count": 4,
   "metadata": {},
   "outputs": [
    {
     "data": {
      "text/plain": [
       "'inputShapeFile.shp'"
      ]
     },
     "execution_count": 4,
     "metadata": {},
     "output_type": "execute_result"
    }
   ],
   "source": [
    "f\"{inPut}\""
   ]
  },
  {
   "cell_type": "markdown",
   "metadata": {},
   "source": [
    "### Exercise 3"
   ]
  },
  {
   "cell_type": "markdown",
   "metadata": {},
   "source": [
    "Check, whether the describe object has a certain attribute."
   ]
  },
  {
   "cell_type": "code",
   "execution_count": 7,
   "metadata": {},
   "outputs": [
    {
     "name": "stdout",
     "output_type": "stream",
     "text": [
      "Name:        MajorAttractions\n"
     ]
    }
   ],
   "source": [
    "fc = r\"C:\\EsriTraining\\PYTSI\\SanDiego.gdb\\MajorAttractions\"\n",
    "desc = arcpy.Describe(fc)\n",
    "\n",
    "if hasattr(desc, \"name\"):\n",
    "    print(\"Name:        \" + desc.name)"
   ]
  },
  {
   "cell_type": "markdown",
   "metadata": {},
   "source": [
    "Using da.Describe"
   ]
  },
  {
   "cell_type": "code",
   "execution_count": 19,
   "metadata": {},
   "outputs": [
    {
     "name": "stdout",
     "output_type": "stream",
     "text": [
      "file: MajorAttractions\n"
     ]
    }
   ],
   "source": [
    "fc = r\"C:\\EsriTraining\\PYTSI\\SanDiego.gdb\\MajorAttractions\"\n",
    "desc = arcpy.da.Describe(fc)\n",
    "\n",
    "if 'file' in desc:\n",
    "    print(\"file: \" + desc['file'])"
   ]
  },
  {
   "cell_type": "markdown",
   "metadata": {},
   "source": [
    "## Lesson 4"
   ]
  },
  {
   "cell_type": "markdown",
   "metadata": {},
   "source": [
    "Introduction to lists"
   ]
  },
  {
   "cell_type": "code",
   "execution_count": 33,
   "metadata": {},
   "outputs": [
    {
     "data": {
      "text/plain": [
       "[]"
      ]
     },
     "execution_count": 33,
     "metadata": {},
     "output_type": "execute_result"
    }
   ],
   "source": [
    "# Create an empty list\n",
    "demolist = []\n",
    "demolist"
   ]
  },
  {
   "cell_type": "code",
   "execution_count": 37,
   "metadata": {},
   "outputs": [
    {
     "data": {
      "text/plain": [
       "['string1', 'string2', 2]"
      ]
     },
     "execution_count": 37,
     "metadata": {},
     "output_type": "execute_result"
    }
   ],
   "source": [
    "# Create a prefilled list\n",
    "demolist = ['string1', 'string2', 2]\n",
    "demolist"
   ]
  },
  {
   "cell_type": "code",
   "execution_count": 35,
   "metadata": {},
   "outputs": [
    {
     "name": "stdout",
     "output_type": "stream",
     "text": [
      "string1\n",
      "2\n"
     ]
    }
   ],
   "source": [
    "# Print the first and last element\n",
    "print(demolist[0])\n",
    "print(demolist[-1])"
   ]
  },
  {
   "cell_type": "code",
   "execution_count": 38,
   "metadata": {},
   "outputs": [
    {
     "data": {
      "text/plain": [
       "['string1', 'string2', 2, '3']"
      ]
     },
     "execution_count": 38,
     "metadata": {},
     "output_type": "execute_result"
    }
   ],
   "source": [
    "# Append an element\n",
    "demolist.append('3')\n",
    "demolist"
   ]
  },
  {
   "cell_type": "code",
   "execution_count": 39,
   "metadata": {},
   "outputs": [
    {
     "name": "stdout",
     "output_type": "stream",
     "text": [
      "string1\n",
      "string2\n",
      "2\n",
      "3\n"
     ]
    }
   ],
   "source": [
    "# Print every element in the list\n",
    "for elem in demolist:\n",
    "    print(elem)"
   ]
  },
  {
   "cell_type": "markdown",
   "metadata": {},
   "source": [
    "**Using ArcPy List* Functions**"
   ]
  },
  {
   "cell_type": "code",
   "execution_count": 29,
   "metadata": {},
   "outputs": [],
   "source": [
    "fc = r\"C:\\EsriTraining\\PYTSI\\SanDiego.gdb\\MajorAttractions\"\n",
    "fieldsList = arcpy.ListFields(fc)"
   ]
  },
  {
   "cell_type": "code",
   "execution_count": 40,
   "metadata": {},
   "outputs": [
    {
     "name": "stdout",
     "output_type": "stream",
     "text": [
      "OBJECTID\n",
      "Shape\n",
      "STATUS\n",
      "NAME\n",
      "NAIC\n",
      "ESTAB\n",
      "ADDR\n",
      "EMP\n"
     ]
    }
   ],
   "source": [
    "# Pseudocode:\n",
    "# For every element in the List:\n",
    "# print the property name\n",
    "for elem in fieldsList:\n",
    "    print(elem.name)"
   ]
  },
  {
   "cell_type": "markdown",
   "metadata": {},
   "source": [
    "Nested FOR- Loops"
   ]
  },
  {
   "cell_type": "code",
   "execution_count": 3,
   "metadata": {},
   "outputs": [
    {
     "name": "stdout",
     "output_type": "stream",
     "text": [
      "###################\n",
      "AffectedAreaApp.shp\n",
      "###################\n",
      "FID\n",
      "Shape\n",
      "OBJECTID\n",
      "FRONTAGE\n",
      "ACRE\n",
      "TOT_L_VAL\n",
      "SALE_YR\n",
      "SALE_PRICE\n",
      "SHAPE_Leng\n",
      "ORIG_FID\n",
      "Number\n",
      "Street\n",
      "City\n",
      "State\n",
      "Zip\n",
      "Owner\n",
      "PhoneNumbe\n",
      "Reported\n",
      "###################\n",
      "AppReports.shp\n",
      "###################\n",
      "FID\n",
      "Shape\n",
      "Parcel_ID\n",
      "Street_Num\n",
      "Street_Nam\n",
      "City\n",
      "State\n",
      "Zip\n",
      "Owner_Name\n",
      "Phone_Numb\n",
      "SquFoot\n",
      "TaxValue\n",
      "PriceSquFt\n",
      "Source\n",
      "###################\n",
      "TreePts.shp\n",
      "###################\n",
      "FID\n",
      "Shape\n",
      "Type\n",
      "CanRadius\n"
     ]
    }
   ],
   "source": [
    "filgdb = r\"C:\\EsriTraining\\PYTS\\Data\"\n",
    "arcpy.env.workspace = filgdb\n",
    "fcList = arcpy.ListFeatureClasses()\n",
    "for fc in fcList:\n",
    "    print('###################')\n",
    "    print(fc)\n",
    "    print('###################')\n",
    "    fieldList = arcpy.ListFields(fc)\n",
    "    for field in fieldList:\n",
    "        print(field.name)"
   ]
  },
  {
   "cell_type": "markdown",
   "metadata": {},
   "source": [
    "## Lesson 5"
   ]
  },
  {
   "cell_type": "markdown",
   "metadata": {},
   "source": [
    "Joining strings"
   ]
  },
  {
   "cell_type": "code",
   "execution_count": 15,
   "metadata": {},
   "outputs": [
    {
     "name": "stdout",
     "output_type": "stream",
     "text": [
      "string1\n",
      "string2\n",
      "string3\n"
     ]
    }
   ],
   "source": [
    "print(\"\\n\".join(['string1', 'string2', 'string3']))"
   ]
  },
  {
   "cell_type": "code",
   "execution_count": 14,
   "metadata": {},
   "outputs": [
    {
     "data": {
      "text/plain": [
       "'string1 4.5'"
      ]
     },
     "execution_count": 14,
     "metadata": {},
     "output_type": "execute_result"
    }
   ],
   "source": [
    "\"{} {}\".format('string1', 4.5)"
   ]
  },
  {
   "cell_type": "markdown",
   "metadata": {},
   "source": [
    "## Lesson 6"
   ]
  },
  {
   "cell_type": "code",
   "execution_count": null,
   "metadata": {},
   "outputs": [],
   "source": [
    "point1 = arcpy.Point(0,0)\n",
    "point2 = arcpy.Point(100,0)\n",
    "point3 = arcpy.Point(50, 50)\n",
    "array = arcpy.Array([point1, point2, point3, point1])"
   ]
  },
  {
   "cell_type": "code",
   "execution_count": 24,
   "metadata": {},
   "outputs": [
    {
     "data": {
      "image/svg+xml": [
       "<svg xmlns=\"http://www.w3.org/2000/svg\" xmlns:xlink=\"http://www.w3.org/1999/xlink\" width=\"108.0\" height=\"100.0\" viewBox=\"-4.0 -4.0 108.0 58.0\" preserveAspectRatio=\"xMinYMin meet\"><g transform=\"matrix(1,0,0,-1,0,50.0)\"><g><circle cx=\"0\" cy=\"0\" r=\"3.0\" stroke=\"#555555\" stroke-width=\"1.0\" fill=\"#66cc99\" opacity=\"0.6\" /><circle cx=\"50\" cy=\"50\" r=\"3.0\" stroke=\"#555555\" stroke-width=\"1.0\" fill=\"#66cc99\" opacity=\"0.6\" /><circle cx=\"100\" cy=\"0\" r=\"3.0\" stroke=\"#555555\" stroke-width=\"1.0\" fill=\"#66cc99\" opacity=\"0.6\" /></g></g></svg>"
      ],
      "text/plain": [
       "<Multipoint object at 0x28a7274c198[0x28a79834c10]>"
      ]
     },
     "execution_count": 24,
     "metadata": {},
     "output_type": "execute_result"
    }
   ],
   "source": [
    "multiP = arcpy.Multipoint(array)\n",
    "multiP"
   ]
  },
  {
   "cell_type": "code",
   "execution_count": 23,
   "metadata": {},
   "outputs": [
    {
     "data": {
      "image/svg+xml": [
       "<svg xmlns=\"http://www.w3.org/2000/svg\" xmlns:xlink=\"http://www.w3.org/1999/xlink\" width=\"108.00013183593751\" height=\"100.0\" viewBox=\"-4.0000048828125 -4.0000048828125 108.00013183593751 58.000131835937495\" preserveAspectRatio=\"xMinYMin meet\"><g transform=\"matrix(1,0,0,-1,0,50.0001220703125)\"><path fill-rule=\"evenodd\" fill=\"#66cc99\" stroke=\"#555555\" stroke-width=\"2.0\" opacity=\"0.6\" d=\" M 0,0 L 50.0001220703125,50.0001220703125 L 100.0001220703125,0 L 0,0 z\" /></g></svg>"
      ],
      "text/plain": [
       "<Polygon object at 0x28a79ce2710[0x28a79834b48]>"
      ]
     },
     "execution_count": 23,
     "metadata": {},
     "output_type": "execute_result"
    }
   ],
   "source": [
    "polygon = arcpy.Polygon(array)\n",
    "polygon"
   ]
  },
  {
   "cell_type": "code",
   "execution_count": 27,
   "metadata": {},
   "outputs": [
    {
     "data": {
      "text/plain": [
       "'MULTIPOLYGON (((0 0, 100 0, 50 50, 0 0)))'"
      ]
     },
     "execution_count": 27,
     "metadata": {},
     "output_type": "execute_result"
    }
   ],
   "source": [
    "convexH = multiP.convexHull()\n",
    "convexH"
   ]
  }
 ],
 "metadata": {
  "kernelspec": {
   "display_name": "Python 3",
   "language": "python",
   "name": "python3"
  },
  "language_info": {
   "codemirror_mode": {
    "name": "ipython",
    "version": 3
   },
   "file_extension": ".py",
   "mimetype": "text/x-python",
   "name": "python",
   "nbconvert_exporter": "python",
   "pygments_lexer": "ipython3",
   "version": "3.6.10"
  }
 },
 "nbformat": 4,
 "nbformat_minor": 4
}
