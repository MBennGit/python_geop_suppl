{
 "cells": [
  {
   "cell_type": "markdown",
   "metadata": {},
   "source": [
    "# Additional Notes"
   ]
  },
  {
   "cell_type": "markdown",
   "metadata": {},
   "source": [
    "## Lesson 1"
   ]
  },
  {
   "cell_type": "markdown",
   "metadata": {},
   "source": [
    "When programming/testing outside of ArcGIS Pro, import the official geoprocessing site package."
   ]
  },
  {
   "cell_type": "code",
   "execution_count": 6,
   "metadata": {},
   "outputs": [],
   "source": [
    "import arcpy"
   ]
  },
  {
   "cell_type": "markdown",
   "metadata": {},
   "source": [
    "## Lesson 2"
   ]
  },
  {
   "cell_type": "markdown",
   "metadata": {},
   "source": [
    "### Exercise 2A"
   ]
  },
  {
   "cell_type": "markdown",
   "metadata": {},
   "source": [
    "Types of Variables"
   ]
  },
  {
   "cell_type": "code",
   "execution_count": 12,
   "metadata": {},
   "outputs": [],
   "source": [
    "inputFeatures = \"AffectedAreaApp\"\n",
    "outputFeatures = r\"C:\\EsriTraining\\PYTS\\Projects\\PowerOutage\\PowerOutage.gdb\\AffectedAreaAppCopy\"\n",
    "optionalParam1 = None\n",
    "optionalParam2 = \"\""
   ]
  },
  {
   "cell_type": "code",
   "execution_count": 18,
   "metadata": {},
   "outputs": [
    {
     "name": "stdout",
     "output_type": "stream",
     "text": [
      "inputFeatures is type <class 'str'>\n",
      "outputFeatures is type <class 'str'>\n",
      "optionalParam1 is type <class 'NoneType'>\n",
      "optionalParam2 is type <class 'str'>\n"
     ]
    }
   ],
   "source": [
    "report = \"{} is type {}\"\n",
    "print(report.format(\"inputFeatures\",type(inputFeatures)))\n",
    "print(report.format(\"outputFeatures\",type(outputFeatures)))\n",
    "print(report.format(\"optionalParam1\",type(optionalParam1)))\n",
    "print(report.format(\"optionalParam2\",type(optionalParam2)))"
   ]
  },
  {
   "cell_type": "markdown",
   "metadata": {},
   "source": [
    "## Lesson 3"
   ]
  },
  {
   "cell_type": "markdown",
   "metadata": {},
   "source": [
    "### Demo 3A"
   ]
  },
  {
   "cell_type": "markdown",
   "metadata": {},
   "source": [
    "String formatting"
   ]
  },
  {
   "cell_type": "code",
   "execution_count": 1,
   "metadata": {},
   "outputs": [
    {
     "name": "stdout",
     "output_type": "stream",
     "text": [
      "Test-File: inputShapeFile.shp\n"
     ]
    }
   ],
   "source": [
    "# Use .format and placeholder {} to control scripts\n",
    "print(\"Test-File: {}\".format('inputShapeFile.shp'))"
   ]
  },
  {
   "cell_type": "code",
   "execution_count": 3,
   "metadata": {},
   "outputs": [
    {
     "name": "stdout",
     "output_type": "stream",
     "text": [
      "Test-Files: inputShapeFile.shp and outputShapeFile.shp\n"
     ]
    }
   ],
   "source": [
    "# You can define several placeholder\n",
    "print(\"Test-Files: {} and {}\".format('inputShapeFile.shp', 'outputShapeFile.shp'))"
   ]
  },
  {
   "cell_type": "code",
   "execution_count": 11,
   "metadata": {},
   "outputs": [
    {
     "name": "stdout",
     "output_type": "stream",
     "text": [
      "Test-Files: outputShapeFile.shp and inputShapeFile.shp\n"
     ]
    }
   ],
   "source": [
    "# Define the order of placeholder\n",
    "print(\"Test-Files: {1} and {0}\".format('inputShapeFile.shp', 'outputShapeFile.shp'))"
   ]
  },
  {
   "cell_type": "code",
   "execution_count": 5,
   "metadata": {},
   "outputs": [
    {
     "name": "stdout",
     "output_type": "stream",
     "text": [
      "Test-Files: inputShapeFile.shp and outputShapeFile.shp\n"
     ]
    }
   ],
   "source": [
    "# Define variables for placeholder\n",
    "print(\"Test-Files: {inP} and {outP}\".format(inP='inputShapeFile.shp', outP='outputShapeFile.shp'))"
   ]
  },
  {
   "cell_type": "markdown",
   "metadata": {},
   "source": [
    "### Exercise 3"
   ]
  },
  {
   "cell_type": "markdown",
   "metadata": {},
   "source": [
    "Check, whether the describe object has a certain attribute."
   ]
  },
  {
   "cell_type": "code",
   "execution_count": 7,
   "metadata": {},
   "outputs": [
    {
     "name": "stdout",
     "output_type": "stream",
     "text": [
      "Name:        MajorAttractions\n"
     ]
    }
   ],
   "source": [
    "fc = r\"C:\\EsriTraining\\PYTSI\\SanDiego.gdb\\MajorAttractions\"\n",
    "desc = arcpy.Describe(fc)\n",
    "\n",
    "if hasattr(desc, \"name\"):\n",
    "    print(\"Name:        \" + desc.name)"
   ]
  }
 ],
 "metadata": {
  "kernelspec": {
   "display_name": "Python 3",
   "language": "python",
   "name": "python3"
  },
  "language_info": {
   "codemirror_mode": {
    "name": "ipython",
    "version": 3
   },
   "file_extension": ".py",
   "mimetype": "text/x-python",
   "name": "python",
   "nbconvert_exporter": "python",
   "pygments_lexer": "ipython3",
   "version": "3.6.10"
  }
 },
 "nbformat": 4,
 "nbformat_minor": 4
}
