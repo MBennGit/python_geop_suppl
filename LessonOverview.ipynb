{
 "cells": [
  {
   "cell_type": "markdown",
   "metadata": {},
   "source": [
    "# Lesson Overview"
   ]
  },
  {
   "cell_type": "markdown",
   "metadata": {},
   "source": [
    "## Lesson 1\n",
    "\n",
    "- Why use Python?\n",
    "    - Automate task\n",
    "    - validate processes\n",
    "    - make difficult workflows easy for user (coworker/customer)\n",
    "- Introduction to the different Python Access Points:\n",
    "    - Python window in **ArcGIS Pro**\n",
    "        - for exploring the syntax\n",
    "        - has drag & drop functionality\n",
    "        - prepare, save, load small snippets of code\n",
    "    - IDE (Integrated Developing Environment) **PyCharm**\n",
    "        - for larger projects \n",
    "        - linked with ArcGIS Python interpreter \n",
    "        - need to import arcpy module (library/package)\n",
    "\n",
    "- New in ArcGIS Pro:\n",
    "    - Conda Environments\n",
    "    - Jupyter notebooks"
   ]
  },
  {
   "cell_type": "markdown",
   "metadata": {},
   "source": [
    "## Lesson 2\n",
    "\n",
    "- Explore the Syntax of your code\n",
    "    - copy from Geoprocessing History\n",
    "    - consult online help: [Copy Features](https://pro.arcgis.com/en/pro-app/tool-reference/data-management/copy-features.htm)\n",
    "    - required and optional parameters\n",
    "- Using variables in Python\n",
    "    - variables can be reused\n",
    "    - one central place to change variables\n",
    "    - variables can be of different type\n",
    "        - string\n",
    "        - integer\n",
    "        - dictionary\n",
    "        - lists\n",
    "        - objects\n",
    "        - ...\n",
    "- Troubleshooting\n",
    "    - use comments to deactivate parts of script\n",
    "    - use pseudocode to describe what you are doing (!!)\n",
    "    - let your script be vocal: print variables and processing steps\n",
    "    - let the IDE help you (autofill, check marked errors)"
   ]
  },
  {
   "cell_type": "markdown",
   "metadata": {},
   "source": [
    "## Lesson 3\n",
    "\n",
    "- Use the Describe (or da.Describe) function\n",
    "    - call function to get information about:\n",
    "        - folder \n",
    "        - featureClass\n",
    "        - Raster\n",
    "        - ...\n",
    "    - access describe objects properties (.name, .length, .path)\n",
    "    - access describe dictionaries (dict['key']) (use module ppring for printing) "
   ]
  },
  {
   "cell_type": "markdown",
   "metadata": {},
   "source": [
    "## Lesson 4\n",
    "\n",
    "- Create Lists about data\n",
    "    - use *arcpy* functions: see online help on [listing data](https://pro.arcgis.com/en/pro-app/arcpy/get-started/listing-data.htm)\n",
    "- Looping through lists\n",
    "    - for loop on a list of FeatureClasses enables you to apply same action (codeblock) repeatedly\n",
    "- get Information about Data Sets\n",
    "    - List Fields to see which are missing and need to be added"
   ]
  }
 ],
 "metadata": {
  "kernelspec": {
   "display_name": "Python 3",
   "language": "python",
   "name": "python3"
  },
  "language_info": {
   "codemirror_mode": {
    "name": "ipython",
    "version": 3
   },
   "file_extension": ".py",
   "mimetype": "text/x-python",
   "name": "python",
   "nbconvert_exporter": "python",
   "pygments_lexer": "ipython3",
   "version": "3.6.10"
  }
 },
 "nbformat": 4,
 "nbformat_minor": 4
}
