{
 "cells": [
  {
   "cell_type": "markdown",
   "metadata": {},
   "source": [
    "# Lesson Overview"
   ]
  },
  {
   "cell_type": "markdown",
   "metadata": {},
   "source": [
    "## Lesson 1\n",
    "\n",
    "- Why use Python?\n",
    "    - Automate task\n",
    "    - validate processes\n",
    "    - make difficult workflows easy for user (coworker/customer)\n",
    "- Introduction to the different Python Access Points:\n",
    "    - Python window in **ArcGIS Pro**\n",
    "        - for exploring the syntax\n",
    "        - has drag & drop functionality\n",
    "        - prepare, save, load small snippets of code\n",
    "    - IDE (Integrated Developing Environment) **PyCharm**\n",
    "        - for larger projects \n",
    "        - linked with ArcGIS Python interpreter \n",
    "        - need to import arcpy module (library/package)\n",
    "\n",
    "- New in ArcGIS Pro:\n",
    "    - Conda Environments\n",
    "    - Jupyter notebooks"
   ]
  },
  {
   "cell_type": "markdown",
   "metadata": {},
   "source": [
    "## Lesson 2\n",
    "\n",
    "- Explore the Syntax of your code\n",
    "    - copy from Geoprocessing History\n",
    "    - consult online help: [Copy Features](https://pro.arcgis.com/en/pro-app/tool-reference/data-management/copy-features.htm)\n",
    "    - required and optional parameters\n",
    "- Using variables in Python\n",
    "    - variables can be reused\n",
    "    - one central place to change variables\n",
    "    - variables can be of different type\n",
    "        - string\n",
    "        - integer\n",
    "        - dictionary\n",
    "        - lists\n",
    "        - objects\n",
    "        - ...\n",
    "- Troubleshooting\n",
    "    - use comments to deactivate parts of script\n",
    "    - use pseudocode to describe what you are doing (!!)\n",
    "    - let your script be vocal: print variables and processing steps\n",
    "    - let the IDE help you (autofill, check marked errors)"
   ]
  },
  {
   "cell_type": "markdown",
   "metadata": {},
   "source": [
    "## Lesson 3\n",
    "\n",
    "- Use the Describe (or da.Describe) function\n",
    "    - call function to get information about:\n",
    "        - folder \n",
    "        - featureClass\n",
    "        - Raster\n",
    "        - ...\n",
    "    - access describe objects properties (.name, .length, .path)\n",
    "    - access describe dictionaries (dict['key']) (use module ppring for printing) "
   ]
  },
  {
   "cell_type": "markdown",
   "metadata": {},
   "source": [
    "## Lesson 4\n",
    "\n",
    "- Create Lists about data\n",
    "    - use *arcpy* functions: see online help on [listing data](https://pro.arcgis.com/en/pro-app/arcpy/get-started/listing-data.htm)\n",
    "- Looping through lists\n",
    "    - for loop on a list of FeatureClasses enables you to apply same action (codeblock) repeatedly\n",
    "- get Information about Data Sets\n",
    "    - List Fields to see which are missing and need to be added"
   ]
  },
  {
   "cell_type": "markdown",
   "metadata": {},
   "source": [
    "## Lesson 5\n",
    "- 3 Types of data access cursors\n",
    "    - SearchCursor (Read)\n",
    "    - UpdateCursor (Read, Write, Delete)\n",
    "    - InsertCursor (Write)\n",
    "- use to get efficiently through your attribute table\n",
    "    - get only fields that are necessary\n",
    "    - get geometry object (\"SHAPE@\") or coordinates (\"SHAPE@XY\")\n",
    "- use for loops to go through data\n",
    "- update/insert only works when no SchemaLock exists on file\n",
    "- load data into dictionary, and use for look-up\n",
    "    - very efficient if a lot of cursors are implemented "
   ]
  },
  {
   "cell_type": "markdown",
   "metadata": {},
   "source": [
    "## Lesson 6 \n",
    "- Geometry objects\n",
    "    - in memory, better performance than FeatureClasses\n",
    "    - instead of creating temporary FCS\n",
    "- call methods on each object (documented [here](https://pro.arcgis.com/en/pro-app/arcpy/classes/geometry.htm#M1_GUID-BC466D06-360C-42BD-B198-DA4139B45F49) )\n",
    "    - some functions can be applied on two Geometry objects\n",
    "- Results can be objects or booleans\n"
   ]
  },
  {
   "cell_type": "markdown",
   "metadata": {},
   "source": [
    "## Introduction into ArcGIS Notebooks\n",
    "\n",
    "- use cells for Markdown text, or Python code\n",
    "- easy access to FeatureClasses in the TOC\n",
    "- Get an instant (visual output)\n",
    "    - good to test Geometry Object functions\n",
    "    - use pandas dataframes to display attribute tables"
   ]
  },
  {
   "cell_type": "markdown",
   "metadata": {},
   "source": [
    "## Lesson 7 \n",
    "- Error Handling\n",
    "    - \"Produce meaningful error messages, when something goes wrong.\"\n",
    "    - Without error handling messages are hard to interpret\n",
    "    - With error handling the user knows what is to to. (ideal case)\n",
    "- use try - except statements to catch code blocks from failing\n",
    "- create custom errors with raise exceptions\n",
    "    - can be various\n",
    "        - file empty > error\n",
    "        - value to high > error\n",
    "- catch GeoProcessing Error with ExecuteError\n",
    "    - caused by *arcpy* tools\n",
    "    - print the arcpy.GetMessage to tell the user what went wrong\n",
    "- every other error\n",
    "    - except Exception as e\n",
    "    - use *sys*, *traceback* modules to print more informative messages, lines, etc\n",
    "- more messages with ArcPy\n",
    "    - AddMessage > Custom Messages    "
   ]
  }
 ],
 "metadata": {
  "kernelspec": {
   "display_name": "Python 3",
   "language": "python",
   "name": "python3"
  },
  "language_info": {
   "codemirror_mode": {
    "name": "ipython",
    "version": 3
   },
   "file_extension": ".py",
   "mimetype": "text/x-python",
   "name": "python",
   "nbconvert_exporter": "python",
   "pygments_lexer": "ipython3",
   "version": "3.6.10"
  }
 },
 "nbformat": 4,
 "nbformat_minor": 4
}
