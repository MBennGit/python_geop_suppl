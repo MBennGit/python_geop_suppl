{
 "cells": [
  {
   "cell_type": "markdown",
   "metadata": {},
   "source": [
    "# ArcGIS Notebook introduction\n",
    "\n",
    "## Subtitle\n",
    "\n",
    "Type some random."
   ]
  },
  {
   "cell_type": "markdown",
   "metadata": {},
   "source": [
    "[More info on Notebooks](https://www.esri.com/en-us/arcgis/products/arcgis-notebooks/overview)"
   ]
  },
  {
   "cell_type": "code",
   "execution_count": null,
   "metadata": {},
   "outputs": [],
   "source": []
  },
  {
   "cell_type": "code",
   "execution_count": 7,
   "metadata": {},
   "outputs": [
    {
     "name": "stdout",
     "output_type": "stream",
     "text": [
      "<class 'int'>\n"
     ]
    }
   ],
   "source": [
    "a = 1\n",
    "print(type(a))"
   ]
  },
  {
   "cell_type": "code",
   "execution_count": 6,
   "metadata": {},
   "outputs": [],
   "source": [
    "import arcpy"
   ]
  },
  {
   "cell_type": "markdown",
   "metadata": {},
   "source": [
    "### Creating simple Geometries\n",
    "\n",
    "We created 3 Points with the function ```arcpy.Point```. We combined the Points to an Array with ```arcpy.Array```, and finally converted the Array to a Multipoint Geometry Object with ```arcpy.Multipoint```.\n",
    "\n",
    "More info on Geometries can be found here:\n",
    "\n",
    "https://pro.arcgis.com/en/pro-app/arcpy/classes/geometry.htm"
   ]
  },
  {
   "cell_type": "code",
   "execution_count": 8,
   "metadata": {},
   "outputs": [],
   "source": [
    "point1 = arcpy.Point(0, 0)\n",
    "point2 = arcpy.Point(100, 0)\n",
    "point3 = arcpy.Point(0, 50)\n",
    "array = arcpy.Array([point1, point2, point3, point1])\n",
    "multiP = arcpy.Multipoint(array)"
   ]
  },
  {
   "cell_type": "code",
   "execution_count": 13,
   "metadata": {},
   "outputs": [
    {
     "data": {
      "image/svg+xml": [
       "<svg xmlns=\"http://www.w3.org/2000/svg\" xmlns:xlink=\"http://www.w3.org/1999/xlink\" width=\"108.0\" height=\"100.0\" viewBox=\"-4.0 -4.0 108.0 58.0\" preserveAspectRatio=\"xMinYMin meet\"><g transform=\"matrix(1,0,0,-1,0,50.0)\"><g><circle cx=\"0\" cy=\"0\" r=\"3.0\" stroke=\"#555555\" stroke-width=\"1.0\" fill=\"#66cc99\" opacity=\"0.6\" /><circle cx=\"0\" cy=\"50\" r=\"3.0\" stroke=\"#555555\" stroke-width=\"1.0\" fill=\"#66cc99\" opacity=\"0.6\" /><circle cx=\"100\" cy=\"0\" r=\"3.0\" stroke=\"#555555\" stroke-width=\"1.0\" fill=\"#66cc99\" opacity=\"0.6\" /></g></g></svg>"
      ],
      "text/plain": [
       "<Multipoint object at 0x1c519a4b7b8[0x1c5194c8e68]>"
      ]
     },
     "execution_count": 13,
     "metadata": {},
     "output_type": "execute_result"
    }
   ],
   "source": [
    "multiP"
   ]
  },
  {
   "cell_type": "code",
   "execution_count": 14,
   "metadata": {},
   "outputs": [
    {
     "data": {
      "image/svg+xml": [
       "<svg xmlns=\"http://www.w3.org/2000/svg\" xmlns:xlink=\"http://www.w3.org/1999/xlink\" width=\"108.0\" height=\"100.0\" viewBox=\"-4.0 -4.0 108.0 58.0\" preserveAspectRatio=\"xMinYMin meet\"><g transform=\"matrix(1,0,0,-1,0,50.0)\"><path fill-rule=\"evenodd\" fill=\"#66cc99\" stroke=\"#555555\" stroke-width=\"2.0\" opacity=\"0.6\" d=\" M 0,0 L 0,50 L 100,0 L 0,0 z\" /></g></svg>"
      ],
      "text/plain": [
       "<Polygon object at 0x1c519a3a8d0[0x1c519a3b698]>"
      ]
     },
     "execution_count": 14,
     "metadata": {},
     "output_type": "execute_result"
    }
   ],
   "source": [
    "multiP.convexHull()"
   ]
  },
  {
   "cell_type": "code",
   "execution_count": 19,
   "metadata": {},
   "outputs": [
    {
     "data": {
      "image/svg+xml": [
       "<svg xmlns=\"http://www.w3.org/2000/svg\" xmlns:xlink=\"http://www.w3.org/1999/xlink\" width=\"100.0\" height=\"100.0\" viewBox=\"-5.4 -5.4 10.8 10.8\" preserveAspectRatio=\"xMinYMin meet\"><g transform=\"matrix(1,0,0,-1,0,0.0)\"><path fill-rule=\"evenodd\" fill=\"#66cc99\" stroke=\"#555555\" stroke-width=\"0.21600000000000003\" opacity=\"0.6\" d=\" M 3.061616997868383e-16,5 L 0.4978392329790833,4.975153876827007 L 0.9907307159969878,4.900862439242719 L 1.4737758720545204,4.777864028930704 L 1.942173981373474,4.607381059352038 L 2.391269893106591,4.391107866851143 L 2.8166002903181098,4.131193871579974 L 3.2139380484326963,3.8302222155948904 L 3.5793342462985924,3.491184090430364 L 3.909157412340149,3.1174490092936673 L 4.200129615753857,2.712731319328798 L 4.449359044057343,2.281053286765815 L 4.6543687432210215,1.8267051218319756 L 4.81312123475006,1.3542023407150254 L 4.92403876506104,0.8682408883346528 L 4.9860189859059005,0.37365046793212164 L 4.998445910004081,-0.12465345869036375 L 4.96119603300086,-0.621718523237426 L 4.874639560909118,-1.112604669781572 L 4.7396367308356595,-1.5924332512584218 L 4.557529261558367,-2.0564355156530563 L 4.330127018922194,-2.499999999999999 L 4.059690028579283,-2.9187183611739487 L 3.7489060148386715,-3.308429187984296 L 3.400863688854598,-3.6652593591491307 L 3.0190220516273865,-3.9856625361146127 L 2.60717601689749,-4.266454408160778 L 2.1694186955877908,-4.504844339512096 L 1.7101007166283464,-4.698463103929541 L 1.233786988451469,-4.84538643114539 L 0.7452113308808732,-4.944154131125643 L 0.2492294283034871,-4.993784606094612 L -0.24922942830348427,-4.993784606094612 L -0.7452113308808704,-4.944154131125643 L -1.2337869884514683,-4.84538643114539 L -1.7101007166283455,-4.698463103929541 L -2.1694186955877903,-4.504844339512096 L -2.607176016897488,-4.266454408160779 L -3.0190220516273865,-3.985662536114613 L -3.4008636888545976,-3.6652593591491307 L -3.7489060148386684,-3.3084291879842995 L -4.05969002857928,-2.9187183611739527 L -4.330127018922193,-2.5000000000000018 L -4.557529261558366,-2.0564355156530576 L -4.739636730835658,-1.5924332512584245 L -4.874639560909117,-1.112604669781577 L -4.96119603300086,-0.6217185232374289 L -4.998445910004081,-0.12465345869036548 L -4.986018985905901,0.37365046793211765 L -4.924038765061041,0.8682408883346502 L -4.81312123475006,1.3542023407150259 L -4.654368743221021,1.8267051218319772 L -4.449359044057343,2.2810532867658146 L -4.200129615753859,2.712731319328795 L -3.9091574123401496,3.117449009293667 L -3.579334246298591,3.491184090430365 L -3.213938048432701,3.830222215594887 L -2.816600290318113,4.131193871579972 L -2.3912698931065925,4.391107866851142 L -1.9421739813734735,4.607381059352038 L -1.4737758720545233,4.777864028930702 L -0.9907307159969926,4.900862439242718 L -0.49783923297908617,4.975153876827006 L 3.061616997868383e-16,5 z\" /></g></svg>"
      ],
      "text/plain": [
       "<Polygon object at 0x1c516ec80b8[0x1c519a3bfd0]>"
      ]
     },
     "execution_count": 19,
     "metadata": {},
     "output_type": "execute_result"
    }
   ],
   "source": [
    "arcpy.PointGeometry(point1).buffer(5)"
   ]
  },
  {
   "cell_type": "markdown",
   "metadata": {},
   "source": [
    "#### Three Lines + 1 Polygon"
   ]
  },
  {
   "cell_type": "markdown",
   "metadata": {},
   "source": [
    "Line 1"
   ]
  },
  {
   "cell_type": "code",
   "execution_count": 25,
   "metadata": {},
   "outputs": [
    {
     "data": {
      "image/svg+xml": [
       "<svg xmlns=\"http://www.w3.org/2000/svg\" xmlns:xlink=\"http://www.w3.org/1999/xlink\" width=\"108.0\" height=\"100.0\" viewBox=\"-4.0 -4.0 108.0 58.0\" preserveAspectRatio=\"xMinYMin meet\"><g transform=\"matrix(1,0,0,-1,0,50.0)\"><g><polyline fill=\"none\" stroke=\"#66cc99\" stroke-width=\"2.0\" points=\"100,50 50,0 0,50\" opacity=\"0.8\" /></g></g></svg>"
      ],
      "text/plain": [
       "<Polyline object at 0x1c516ec6da0[0x1c5194c8fa8]>"
      ]
     },
     "execution_count": 25,
     "metadata": {},
     "output_type": "execute_result"
    }
   ],
   "source": [
    "point1 = arcpy.Point(100, 50)\n",
    "point2 = arcpy.Point(50, 0)\n",
    "point3 = arcpy.Point(0, 50)\n",
    "array1 = arcpy.Array([point1, point2, point3])\n",
    "pLine1 = arcpy.Polyline(array1)\n",
    "pLine1"
   ]
  },
  {
   "cell_type": "markdown",
   "metadata": {},
   "source": [
    "Line 2"
   ]
  },
  {
   "cell_type": "code",
   "execution_count": 26,
   "metadata": {},
   "outputs": [
    {
     "data": {
      "image/svg+xml": [
       "<svg xmlns=\"http://www.w3.org/2000/svg\" xmlns:xlink=\"http://www.w3.org/1999/xlink\" width=\"108.0\" height=\"100.0\" viewBox=\"-4.0 -4.0 108.0 58.0\" preserveAspectRatio=\"xMinYMin meet\"><g transform=\"matrix(1,0,0,-1,0,50.0)\"><g><polyline fill=\"none\" stroke=\"#66cc99\" stroke-width=\"2.0\" points=\"0,0 50,50 100,0\" opacity=\"0.8\" /></g></g></svg>"
      ],
      "text/plain": [
       "<Polyline object at 0x1c516ec63c8[0x1c519a3ba80]>"
      ]
     },
     "execution_count": 26,
     "metadata": {},
     "output_type": "execute_result"
    }
   ],
   "source": [
    "point4 = arcpy.Point(0, 0)\n",
    "point5 = arcpy.Point(50, 50)\n",
    "point6 = arcpy.Point(100, 0)\n",
    "array2 = arcpy.Array([point4, point5, point6])\n",
    "pLine2 = arcpy.Polyline(array2)\n",
    "pLine2"
   ]
  },
  {
   "cell_type": "markdown",
   "metadata": {},
   "source": [
    "Line 3"
   ]
  },
  {
   "cell_type": "code",
   "execution_count": 28,
   "metadata": {},
   "outputs": [
    {
     "data": {
      "image/svg+xml": [
       "<svg xmlns=\"http://www.w3.org/2000/svg\" xmlns:xlink=\"http://www.w3.org/1999/xlink\" width=\"108.0\" height=\"100.0\" viewBox=\"196.0 -4.0 108.0 58.0\" preserveAspectRatio=\"xMinYMin meet\"><g transform=\"matrix(1,0,0,-1,0,50.0)\"><g><polyline fill=\"none\" stroke=\"#66cc99\" stroke-width=\"2.0\" points=\"200,0 250,50 300,0\" opacity=\"0.8\" /></g></g></svg>"
      ],
      "text/plain": [
       "<Polyline object at 0x1c516ec6ba8[0x1c519a3b990]>"
      ]
     },
     "execution_count": 28,
     "metadata": {},
     "output_type": "execute_result"
    }
   ],
   "source": [
    "point7 = arcpy.Point(200, 0)\n",
    "point8 = arcpy.Point(250, 50)\n",
    "point9 = arcpy.Point(300, 0)\n",
    "array3 = arcpy.Array([point7, point8, point9])\n",
    "pLine3 = arcpy.Polyline(array3)\n",
    "pLine3"
   ]
  },
  {
   "cell_type": "code",
   "execution_count": 35,
   "metadata": {},
   "outputs": [
    {
     "data": {
      "text/plain": [
       "False"
      ]
     },
     "execution_count": 35,
     "metadata": {},
     "output_type": "execute_result"
    }
   ],
   "source": [
    "pLine2.crosses(pLine3)"
   ]
  },
  {
   "cell_type": "code",
   "execution_count": 31,
   "metadata": {},
   "outputs": [
    {
     "data": {
      "image/svg+xml": [
       "<svg xmlns=\"http://www.w3.org/2000/svg\" xmlns:xlink=\"http://www.w3.org/1999/xlink\" width=\"108.00013183593751\" height=\"100.0\" viewBox=\"-4.0000048828125 -4.0000048828125 108.00013183593751 58.000131835937495\" preserveAspectRatio=\"xMinYMin meet\"><g transform=\"matrix(1,0,0,-1,0,50.0001220703125)\"><path fill-rule=\"evenodd\" fill=\"#66cc99\" stroke=\"#555555\" stroke-width=\"2.0\" opacity=\"0.6\" d=\" M 0,0 L 50.0001220703125,50.0001220703125 L 100.0001220703125,0 L 0,0 z\" /></g></svg>"
      ],
      "text/plain": [
       "<Polygon object at 0x1c516ec6f60[0x1c5194c8f58]>"
      ]
     },
     "execution_count": 31,
     "metadata": {},
     "output_type": "execute_result"
    }
   ],
   "source": [
    "pGon2 = arcpy.Polygon(arcpy.Array([point4, point5, point6, point4]))\n",
    "pGon2"
   ]
  },
  {
   "cell_type": "code",
   "execution_count": 38,
   "metadata": {},
   "outputs": [
    {
     "data": {
      "image/svg+xml": [
       "<svg xmlns=\"http://www.w3.org/2000/svg\" xmlns:xlink=\"http://www.w3.org/1999/xlink\" width=\"100.0\" height=\"100.0\" viewBox=\"23.0001171875 -2.0000048828125 54.00000976562501 54.000131835937495\" preserveAspectRatio=\"xMinYMin meet\"><g transform=\"matrix(1,0,0,-1,0,50.0001220703125)\"><path fill-rule=\"evenodd\" fill=\"#66cc99\" stroke=\"#555555\" stroke-width=\"1.0800026367187499\" opacity=\"0.6\" d=\" M 75.0001220703125,25.0001220703125 L 50.0001220703125,0 L 25.0001220703125,25.0001220703125 L 50.0001220703125,50.0001220703125 L 75.0001220703125,25.0001220703125 z\" /></g></svg>"
      ],
      "text/plain": [
       "<Polygon object at 0x1c519a43b38[0x1c519a3bc38]>"
      ]
     },
     "execution_count": 38,
     "metadata": {},
     "output_type": "execute_result"
    }
   ],
   "source": [
    "pGon2.cut(pLine1)[1]"
   ]
  }
 ],
 "metadata": {
  "kernelspec": {
   "display_name": "ArcGISPro",
   "language": "Python",
   "name": "python3"
  },
  "language_info": {
   "file_extension": ".py",
   "name": "python",
   "version": "3"
  }
 },
 "nbformat": 4,
 "nbformat_minor": 2
}
