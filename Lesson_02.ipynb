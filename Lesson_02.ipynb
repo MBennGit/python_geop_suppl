{
 "cells": [
  {
   "cell_type": "markdown",
   "metadata": {},
   "source": [
    "# Lesson 2"
   ]
  },
  {
   "cell_type": "markdown",
   "metadata": {},
   "source": [
    "## Exercise 2A"
   ]
  },
  {
   "cell_type": "markdown",
   "metadata": {},
   "source": [
    "Types of Variables"
   ]
  },
  {
   "cell_type": "code",
   "execution_count": 12,
   "metadata": {},
   "outputs": [],
   "source": [
    "inputFeatures = \"AffectedAreaApp\"\n",
    "outputFeatures = r\"C:\\EsriTraining\\PYTS\\Projects\\PowerOutage\\PowerOutage.gdb\\AffectedAreaAppCopy\"\n",
    "optionalParam1 = None\n",
    "optionalParam2 = \"\""
   ]
  },
  {
   "cell_type": "code",
   "execution_count": 18,
   "metadata": {},
   "outputs": [
    {
     "name": "stdout",
     "output_type": "stream",
     "text": [
      "inputFeatures is type <class 'str'>\n",
      "outputFeatures is type <class 'str'>\n",
      "optionalParam1 is type <class 'NoneType'>\n",
      "optionalParam2 is type <class 'str'>\n"
     ]
    }
   ],
   "source": [
    "report = \"{} is type {}\"\n",
    "print(report.format(\"inputFeatures\",type(inputFeatures)))\n",
    "print(report.format(\"outputFeatures\",type(outputFeatures)))\n",
    "print(report.format(\"optionalParam1\",type(optionalParam1)))\n",
    "print(report.format(\"optionalParam2\",type(optionalParam2)))"
   ]
  }
 ],
 "metadata": {
  "kernelspec": {
   "display_name": "Python 3",
   "language": "python",
   "name": "python3"
  },
  "language_info": {
   "codemirror_mode": {
    "name": "ipython",
    "version": 3
   },
   "file_extension": ".py",
   "mimetype": "text/x-python",
   "name": "python",
   "nbconvert_exporter": "python",
   "pygments_lexer": "ipython3",
   "version": "3.6.10"
  }
 },
 "nbformat": 4,
 "nbformat_minor": 4
}
